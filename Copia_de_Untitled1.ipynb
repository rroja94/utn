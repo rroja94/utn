{
  "nbformat": 4,
  "nbformat_minor": 0,
  "metadata": {
    "colab": {
      "provenance": [],
      "authorship_tag": "ABX9TyNqtAKTY+ywzroNGQLtJT9K",
      "include_colab_link": true
    },
    "kernelspec": {
      "name": "python3",
      "display_name": "Python 3"
    },
    "language_info": {
      "name": "python"
    }
  },
  "cells": [
    {
      "cell_type": "markdown",
      "metadata": {
        "id": "view-in-github",
        "colab_type": "text"
      },
      "source": [
        "<a href=\"https://colab.research.google.com/github/rroja94/utn/blob/main/Copia_de_Untitled1.ipynb\" target=\"_parent\"><img src=\"https://colab.research.google.com/assets/colab-badge.svg\" alt=\"Open In Colab\"/></a>"
      ]
    },
    {
      "cell_type": "code",
      "source": [
        "# Carga de datos\n",
        "import pandas as pd\n",
        "\n",
        "# URL del archivo CSV en GitHub\n",
        "url = 'https://raw.githubusercontent.com/alelentini/pye-datos/main/m_1001.csv'\n",
        "\n",
        "# Lee el archivo CSV y carga los datos en un DataFrame\n",
        "df = pd.read_csv(url)\n",
        "\n",
        "print(df)\n"
      ],
      "metadata": {
        "id": "6AmzW44ppUQr",
        "colab": {
          "base_uri": "https://localhost:8080/"
        },
        "outputId": "a4ba9174-4306-4947-abf0-d6c92df57cf5"
      },
      "execution_count": null,
      "outputs": [
        {
          "output_type": "stream",
          "name": "stdout",
          "text": [
            "                         F   H   X_1 X_2  X_3\n",
            "0       26FEB2011:00:00:00  18   s/d  33  s/d\n",
            "1       26FEB2011:00:00:00  23   s/d  67  s/d\n",
            "2       27FEB2011:00:00:00   7   s/d  35  s/d\n",
            "3       27FEB2011:00:00:00  11   s/d  15  s/d\n",
            "4       27FEB2011:00:00:00  13   s/d  14  s/d\n",
            "...                    ...  ..   ...  ..  ...\n",
            "116700  06OCT2014:00:00:00  22  0.89  23   15\n",
            "116701  01NOV2016:00:00:00   9  0.66  23   33\n",
            "116702  19SEP2014:00:00:00   7  0.46  18   31\n",
            "116703  05DEC2017:00:00:00  17  0.56  13   22\n",
            "116704  24DEC2010:00:00:00  22   s/d  46  NaN\n",
            "\n",
            "[116705 rows x 5 columns]\n"
          ]
        }
      ]
    },
    {
      "cell_type": "code",
      "source": [
        "# Tamaño de la matriz de datos original\n",
        "num_filas = df.shape[0]\n",
        "num_columnas = df.shape[1]\n",
        "\n",
        "print(\"Número de filas:\", num_filas)\n",
        "print(\"Número de columnas:\", num_columnas)"
      ],
      "metadata": {
        "id": "qyoYlZaypajz",
        "colab": {
          "base_uri": "https://localhost:8080/"
        },
        "outputId": "70ba3b9f-fa09-44b5-cccb-a70b5aeb7c41"
      },
      "execution_count": null,
      "outputs": [
        {
          "output_type": "stream",
          "name": "stdout",
          "text": [
            "Número de filas: 116705\n",
            "Número de columnas: 5\n"
          ]
        }
      ]
    },
    {
      "cell_type": "code",
      "source": [
        "# Depuración de datos\n",
        "columna_3 = 'X_1'\n",
        "df[columna_3] = pd.to_numeric(df[columna_3], errors='coerce')\n",
        "df = df.dropna(subset=[columna_3])\n",
        "\n",
        "columna_4 = 'X_2'\n",
        "df[columna_4] = pd.to_numeric(df[columna_4], errors='coerce')\n",
        "df = df.dropna(subset=[columna_4])\n",
        "\n",
        "columna_5 = 'X_3'\n",
        "df[columna_5] = pd.to_numeric(df[columna_5], errors='coerce')\n",
        "df = df.dropna(subset=[columna_5])\n",
        "\n",
        "print(df)"
      ],
      "metadata": {
        "id": "HD_Vtas1ph_j",
        "colab": {
          "base_uri": "https://localhost:8080/"
        },
        "outputId": "0b60d94c-e4a6-40f0-9065-08ed2ef8e30b"
      },
      "execution_count": null,
      "outputs": [
        {
          "output_type": "stream",
          "name": "stdout",
          "text": [
            "                         F   H   X_1   X_2   X_3\n",
            "1721    25DEC2011:00:00:00  14  0.20   4.0  17.0\n",
            "1722    25DEC2011:00:00:00  15  0.20   8.0  17.0\n",
            "1723    26DEC2011:00:00:00   2  0.36   8.0  14.0\n",
            "1725    27NOV2011:00:00:00  15  0.46  15.0  92.0\n",
            "1726    28NOV2011:00:00:00  12  0.63  16.0  54.0\n",
            "...                    ...  ..   ...   ...   ...\n",
            "116694  19JAN2014:00:00:00  23  0.33  14.0  33.0\n",
            "116700  06OCT2014:00:00:00  22  0.89  23.0  15.0\n",
            "116701  01NOV2016:00:00:00   9  0.66  23.0  33.0\n",
            "116702  19SEP2014:00:00:00   7  0.46  18.0  31.0\n",
            "116703  05DEC2017:00:00:00  17  0.56  13.0  22.0\n",
            "\n",
            "[71650 rows x 5 columns]\n"
          ]
        }
      ]
    }
  ]
}